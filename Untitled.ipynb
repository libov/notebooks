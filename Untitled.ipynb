{
 "cells": [
  {
   "cell_type": "code",
   "execution_count": null,
   "id": "406e9485-e726-4617-b267-13f7afd72dce",
   "metadata": {},
   "outputs": [],
   "source": [
    "sdfd"
   ]
  },
  {
   "cell_type": "code",
   "execution_count": 3,
   "id": "1a66ed83-d6af-4cb6-9a98-5b1501a25d7f",
   "metadata": {},
   "outputs": [],
   "source": [
    "aa=3"
   ]
  },
  {
   "cell_type": "code",
   "execution_count": 4,
   "id": "87a0ea29-3a0a-4ee4-b322-6d2a6d009287",
   "metadata": {},
   "outputs": [
    {
     "name": "stdout",
     "output_type": "stream",
     "text": [
      "3\n"
     ]
    }
   ],
   "source": [
    "print(aa)"
   ]
  },
  {
   "cell_type": "code",
   "execution_count": null,
   "id": "bb0ff2a0-d6ae-4e83-9366-675c6c520fc5",
   "metadata": {},
   "outputs": [],
   "source": []
  }
 ],
 "metadata": {
  "kernelspec": {
   "display_name": "Python 3 (ipykernel)",
   "language": "python",
   "name": "python3"
  },
  "language_info": {
   "codemirror_mode": {
    "name": "ipython",
    "version": 3
   },
   "file_extension": ".py",
   "mimetype": "text/x-python",
   "name": "python",
   "nbconvert_exporter": "python",
   "pygments_lexer": "ipython3",
   "version": "3.9.7"
  }
 },
 "nbformat": 4,
 "nbformat_minor": 5
}
